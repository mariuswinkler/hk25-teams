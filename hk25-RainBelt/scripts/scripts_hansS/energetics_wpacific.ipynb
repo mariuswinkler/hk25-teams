{
 "cells": [
  {
   "cell_type": "markdown",
   "id": "5316fd53",
   "metadata": {},
   "source": [
    "# Energetics and water budget: Western Pacific"
   ]
  },
  {
   "cell_type": "code",
   "execution_count": null,
   "id": "f5adb28e",
   "metadata": {},
   "outputs": [],
   "source": [
    "import sys\n",
    "sys.path.append('/work/mh0731/m300876/package/')\n",
    "import icons\n",
    "import intake\n",
    "import matplotlib.pyplot as plt\n",
    "import healpy as hp\n",
    "import xarray as xr\n",
    "import numpy as np\n",
    "import easygems.healpix as egh\n",
    "import seaborn as sns"
   ]
  },
  {
   "cell_type": "code",
   "execution_count": 2,
   "id": "2503d081",
   "metadata": {},
   "outputs": [
    {
     "name": "stdout",
     "output_type": "stream",
     "text": [
      "Number of CPUs: 256, number of threads: 256, number of workers: 1, processes: False\n"
     ]
    },
    {
     "data": {
      "text/html": [
       "<div>\n",
       "    <div style=\"width: 24px; height: 24px; background-color: #e1e1e1; border: 3px solid #9D9D9D; border-radius: 5px; position: absolute;\"> </div>\n",
       "    <div style=\"margin-left: 48px;\">\n",
       "        <h3 style=\"margin-bottom: 0px;\">Client</h3>\n",
       "        <p style=\"color: #9D9D9D; margin-bottom: 0px;\">Client-801bea9a-2e3c-11f0-893e-080038c04e2f</p>\n",
       "        <table style=\"width: 100%; text-align: left;\">\n",
       "\n",
       "        <tr>\n",
       "        \n",
       "            <td style=\"text-align: left;\"><strong>Connection method:</strong> Cluster object</td>\n",
       "            <td style=\"text-align: left;\"><strong>Cluster type:</strong> distributed.LocalCluster</td>\n",
       "        \n",
       "        </tr>\n",
       "\n",
       "        \n",
       "            <tr>\n",
       "                <td style=\"text-align: left;\">\n",
       "                    <strong>Dashboard: </strong> <a href=\"/user/m300876/levante-spawner-advanced//proxy/42421/status\" target=\"_blank\">/user/m300876/levante-spawner-advanced//proxy/42421/status</a>\n",
       "                </td>\n",
       "                <td style=\"text-align: left;\"></td>\n",
       "            </tr>\n",
       "        \n",
       "\n",
       "        </table>\n",
       "\n",
       "        \n",
       "\n",
       "        \n",
       "            <details>\n",
       "            <summary style=\"margin-bottom: 20px;\"><h3 style=\"display: inline;\">Cluster Info</h3></summary>\n",
       "            <div class=\"jp-RenderedHTMLCommon jp-RenderedHTML jp-mod-trusted jp-OutputArea-output\">\n",
       "    <div style=\"width: 24px; height: 24px; background-color: #e1e1e1; border: 3px solid #9D9D9D; border-radius: 5px; position: absolute;\">\n",
       "    </div>\n",
       "    <div style=\"margin-left: 48px;\">\n",
       "        <h3 style=\"margin-bottom: 0px; margin-top: 0px;\">LocalCluster</h3>\n",
       "        <p style=\"color: #9D9D9D; margin-bottom: 0px;\">3f0900d2</p>\n",
       "        <table style=\"width: 100%; text-align: left;\">\n",
       "            <tr>\n",
       "                <td style=\"text-align: left;\">\n",
       "                    <strong>Dashboard:</strong> <a href=\"/user/m300876/levante-spawner-advanced//proxy/42421/status\" target=\"_blank\">/user/m300876/levante-spawner-advanced//proxy/42421/status</a>\n",
       "                </td>\n",
       "                <td style=\"text-align: left;\">\n",
       "                    <strong>Workers:</strong> 1\n",
       "                </td>\n",
       "            </tr>\n",
       "            <tr>\n",
       "                <td style=\"text-align: left;\">\n",
       "                    <strong>Total threads:</strong> 256\n",
       "                </td>\n",
       "                <td style=\"text-align: left;\">\n",
       "                    <strong>Total memory:</strong> 93.13 GiB\n",
       "                </td>\n",
       "            </tr>\n",
       "            \n",
       "            <tr>\n",
       "    <td style=\"text-align: left;\"><strong>Status:</strong> running</td>\n",
       "    <td style=\"text-align: left;\"><strong>Using processes:</strong> False</td>\n",
       "</tr>\n",
       "\n",
       "            \n",
       "        </table>\n",
       "\n",
       "        <details>\n",
       "            <summary style=\"margin-bottom: 20px;\">\n",
       "                <h3 style=\"display: inline;\">Scheduler Info</h3>\n",
       "            </summary>\n",
       "\n",
       "            <div style=\"\">\n",
       "    <div>\n",
       "        <div style=\"width: 24px; height: 24px; background-color: #FFF7E5; border: 3px solid #FF6132; border-radius: 5px; position: absolute;\"> </div>\n",
       "        <div style=\"margin-left: 48px;\">\n",
       "            <h3 style=\"margin-bottom: 0px;\">Scheduler</h3>\n",
       "            <p style=\"color: #9D9D9D; margin-bottom: 0px;\">Scheduler-12362d94-a56d-44d2-8de2-37b2634286de</p>\n",
       "            <table style=\"width: 100%; text-align: left;\">\n",
       "                <tr>\n",
       "                    <td style=\"text-align: left;\">\n",
       "                        <strong>Comm:</strong> inproc://136.172.120.71/2443582/1\n",
       "                    </td>\n",
       "                    <td style=\"text-align: left;\">\n",
       "                        <strong>Workers:</strong> 1\n",
       "                    </td>\n",
       "                </tr>\n",
       "                <tr>\n",
       "                    <td style=\"text-align: left;\">\n",
       "                        <strong>Dashboard:</strong> <a href=\"/user/m300876/levante-spawner-advanced//proxy/42421/status\" target=\"_blank\">/user/m300876/levante-spawner-advanced//proxy/42421/status</a>\n",
       "                    </td>\n",
       "                    <td style=\"text-align: left;\">\n",
       "                        <strong>Total threads:</strong> 256\n",
       "                    </td>\n",
       "                </tr>\n",
       "                <tr>\n",
       "                    <td style=\"text-align: left;\">\n",
       "                        <strong>Started:</strong> Just now\n",
       "                    </td>\n",
       "                    <td style=\"text-align: left;\">\n",
       "                        <strong>Total memory:</strong> 93.13 GiB\n",
       "                    </td>\n",
       "                </tr>\n",
       "            </table>\n",
       "        </div>\n",
       "    </div>\n",
       "\n",
       "    <details style=\"margin-left: 48px;\">\n",
       "        <summary style=\"margin-bottom: 20px;\">\n",
       "            <h3 style=\"display: inline;\">Workers</h3>\n",
       "        </summary>\n",
       "\n",
       "        \n",
       "        <div style=\"margin-bottom: 20px;\">\n",
       "            <div style=\"width: 24px; height: 24px; background-color: #DBF5FF; border: 3px solid #4CC9FF; border-radius: 5px; position: absolute;\"> </div>\n",
       "            <div style=\"margin-left: 48px;\">\n",
       "            <details>\n",
       "                <summary>\n",
       "                    <h4 style=\"margin-bottom: 0px; display: inline;\">Worker: 0</h4>\n",
       "                </summary>\n",
       "                <table style=\"width: 100%; text-align: left;\">\n",
       "                    <tr>\n",
       "                        <td style=\"text-align: left;\">\n",
       "                            <strong>Comm: </strong> inproc://136.172.120.71/2443582/4\n",
       "                        </td>\n",
       "                        <td style=\"text-align: left;\">\n",
       "                            <strong>Total threads: </strong> 256\n",
       "                        </td>\n",
       "                    </tr>\n",
       "                    <tr>\n",
       "                        <td style=\"text-align: left;\">\n",
       "                            <strong>Dashboard: </strong> <a href=\"/user/m300876/levante-spawner-advanced//proxy/41269/status\" target=\"_blank\">/user/m300876/levante-spawner-advanced//proxy/41269/status</a>\n",
       "                        </td>\n",
       "                        <td style=\"text-align: left;\">\n",
       "                            <strong>Memory: </strong> 93.13 GiB\n",
       "                        </td>\n",
       "                    </tr>\n",
       "                    <tr>\n",
       "                        <td style=\"text-align: left;\">\n",
       "                            <strong>Nanny: </strong> None\n",
       "                        </td>\n",
       "                        <td style=\"text-align: left;\"></td>\n",
       "                    </tr>\n",
       "                    <tr>\n",
       "                        <td colspan=\"2\" style=\"text-align: left;\">\n",
       "                            <strong>Local directory: </strong> /tmp/dask-worker-space/worker-16e9xplc\n",
       "                        </td>\n",
       "                    </tr>\n",
       "\n",
       "                    \n",
       "\n",
       "                    \n",
       "\n",
       "                </table>\n",
       "            </details>\n",
       "            </div>\n",
       "        </div>\n",
       "        \n",
       "\n",
       "    </details>\n",
       "</div>\n",
       "\n",
       "        </details>\n",
       "    </div>\n",
       "</div>\n",
       "            </details>\n",
       "        \n",
       "\n",
       "    </div>\n",
       "</div>"
      ],
      "text/plain": [
       "<Client: 'inproc://136.172.120.71/2443582/1' processes=1 threads=256, memory=93.13 GiB>"
      ]
     },
     "execution_count": 2,
     "metadata": {},
     "output_type": "execute_result"
    }
   ],
   "source": [
    "icons.prepare_cpu(memory='100GB')"
   ]
  },
  {
   "cell_type": "markdown",
   "id": "0af16137",
   "metadata": {},
   "source": [
    "### Predefined functions"
   ]
  },
  {
   "cell_type": "code",
   "execution_count": 53,
   "id": "4641c5ce",
   "metadata": {},
   "outputs": [],
   "source": [
    "### preprocess to modify data set\n",
    "def preprocess(ds):\n",
    "    \"\"\"\n",
    "    Adapts precipitation to the needs of this notebook.\n",
    "    \"\"\"\n",
    "    ds = ds.assign(pr=(ds.pr * 86400).assign_attrs(units=\"mm d-1\"))\n",
    "    return ds\n",
    "\n",
    "### Location mask\n",
    "def tropics(ds):\n",
    "    return np.abs(ds.lat) <= 30.1\n",
    "\n",
    "def equator(ds):\n",
    "    return np.abs(ds.lat) <= 5.1\n",
    "\n",
    "def ocean(ds):\n",
    "    return ds.ocean_fraction_surface == 1\n",
    "\n",
    "def trop_wpacific(ds):\n",
    "    return tropics(ds) & (ds.lon > 150) & (ds.lon < 170) \n",
    "\n",
    "def eq_wpacific(ds):\n",
    "    return equator(ds) & (ds.lon > 150) & (ds.lon < 170) \n",
    "\n",
    "#### Calculate energy\n",
    "def net_toa(ds):\n",
    "    return (ds.rsdt - ds.rsut - ds.rlut)\n",
    "\n",
    "def net_surface(ds):\n",
    "    return (ds.rsus - ds.rsds + ds.rlus - ds.rlds)\n",
    "\n",
    "def net_surface_sw(ds):\n",
    "    return (ds.rsus - ds.rsds)\n",
    "\n",
    "def net_surface_lw(ds):\n",
    "    return (ds.rlus - ds.rlds)\n",
    "\n",
    "def net_cooling(ds):\n",
    "    return net_toa(ds) + net_surface_sw(ds) + net_surface_lw(ds)\n",
    "\n",
    "def get_pe(ds):\n",
    "    lv=22.6e5\n",
    "    return (ds.pr*lv/ 86400 + ds.hflsd)\n",
    "\n",
    "def net_fluxes(ds):\n",
    "    return (-ds.hflsd - ds.hfssd)\n"
   ]
  },
  {
   "cell_type": "markdown",
   "id": "c0d2970d",
   "metadata": {},
   "source": [
    "## Calling data"
   ]
  },
  {
   "cell_type": "code",
   "execution_count": 4,
   "id": "5cf330cd",
   "metadata": {},
   "outputs": [
    {
     "name": "stdout",
     "output_type": "stream",
     "text": [
      "CPU times: user 1.64 s, sys: 388 ms, total: 2.02 s\n",
      "Wall time: 2.61 s\n"
     ]
    }
   ],
   "source": [
    "%%time\n",
    "### ICON\n",
    "current_location = \"online\"\n",
    "cat = cat = intake.open_catalog(\n",
    "    \"https://digital-earths-global-hackathon.github.io/catalog/catalog.yaml\")[current_location]\n",
    "exp_name = \"icon_d3hp003\"\n",
    "experiment = cat[exp_name]\n",
    "time_slice = slice(\"2020-02-01\", \"2021-01-31\")\n",
    "ds_icon = (\n",
    "    experiment(zoom=8, time=\"P1D\", chunks=\"auto\")\n",
    "    .to_dask()\n",
    "    .pipe(egh.attach_coords)\n",
    "    .pipe(preprocess)\n",
    "    .sel(time=time_slice)\n",
    ").mean('time')\n"
   ]
  },
  {
   "cell_type": "code",
   "execution_count": 34,
   "id": "cbea8c69",
   "metadata": {},
   "outputs": [
    {
     "name": "stdout",
     "output_type": "stream",
     "text": [
      "CPU times: user 405 ms, sys: 16.6 ms, total: 421 ms\n",
      "Wall time: 2.9 s\n"
     ]
    }
   ],
   "source": [
    "%%time\n",
    "### NICAM\n",
    "exp_name = \"nicam_gl11\"\n",
    "experiment = cat[exp_name]\n",
    "time_slice = slice(\"2020-04-01\", \"2021-03-31\")\n",
    "ds_nicam = (\n",
    "    experiment(zoom=8, time=\"PT3H\", chunks=\"auto\")\n",
    "    .to_dask()\n",
    "    .pipe(preprocess)\n",
    "    .sel(time=time_slice)\n",
    ")\n",
    "\n",
    "ds_nicam = ds_nicam.assign_coords(\n",
    "    lat=((\"cell\",), ds_icon.lat.values, {\"units\": \"degree_north\"}),\n",
    "    lon=((\"cell\",), ds_icon.lon.values, {\"units\": \"degree_east\"}),\n",
    ").mean('time')"
   ]
  },
  {
   "cell_type": "code",
   "execution_count": 8,
   "id": "edf71721",
   "metadata": {},
   "outputs": [
    {
     "name": "stdout",
     "output_type": "stream",
     "text": [
      "CPU times: user 515 ms, sys: 19.3 ms, total: 534 ms\n",
      "Wall time: 1.61 s\n"
     ]
    }
   ],
   "source": [
    "%%time\n",
    "### Unified Model\n",
    "exp_name = \"um_glm_n2560_RAL3p3\"\n",
    "experiment = cat[exp_name]\n",
    "time_slice = slice(\"2020-03-01\", \"2021-03-01\")\n",
    "ds_um = (\n",
    "    experiment(zoom=8, time=\"PT1H\", chunks=\"auto\")\n",
    "    .to_dask()\n",
    "    .pipe(preprocess)\n",
    "    .sel(time=time_slice)\n",
    ")\n",
    "\n",
    "ds_um = ds_um.assign_coords(\n",
    "    lat=((\"cell\",), ds_icon.lat.values, {\"units\": \"degree_north\"}),\n",
    "    lon=((\"cell\",), ds_icon.lon.values, {\"units\": \"degree_east\"}),\n",
    ").mean('time')"
   ]
  },
  {
   "cell_type": "markdown",
   "id": "8ecff191",
   "metadata": {},
   "source": [
    "### Energy and water budget: $Q_\\mathrm{rad}$, $Q_\\mathrm{surf}$, $P-E$, $\\Gamma$"
   ]
  },
  {
   "cell_type": "code",
   "execution_count": 10,
   "id": "5cf61dec",
   "metadata": {},
   "outputs": [
    {
     "name": "stdout",
     "output_type": "stream",
     "text": [
      "CPU times: user 32 s, sys: 16 s, total: 48 s\n",
      "Wall time: 26.5 s\n"
     ]
    }
   ],
   "source": [
    "%%time\n",
    "### ICON\n",
    "qrad_icon = net_cooling(ds_icon.where(trop_wpacific(ds_icon))).compute()\n",
    "qsurf_icon = net_fluxes(ds_icon.where(trop_wpacific(ds_icon))).compute()\n",
    "pe_icon = get_pe(ds_icon.where(trop_wpacific(ds_icon))).compute()"
   ]
  },
  {
   "cell_type": "code",
   "execution_count": 56,
   "id": "4365414e",
   "metadata": {},
   "outputs": [
    {
     "name": "stdout",
     "output_type": "stream",
     "text": [
      "CPU times: user 12min 7s, sys: 3min 1s, total: 15min 9s\n",
      "Wall time: 11min 24s\n"
     ]
    }
   ],
   "source": [
    "%%time\n",
    "### NICAM\n",
    "qtoa_nicam = net_toa(ds_nicam.where(trop_wpacific(ds_nicam))).compute()\n",
    "qnetsw_nicam = net_surface_sw(ds_nicam.where(trop_wpacific(ds_nicam))).compute()\n",
    "qnetlw_nicam = net_surface_lw(ds_nicam.where(trop_wpacific(ds_nicam))).compute()\n",
    "qrad_nicam = qtoa_nicam + qnetsw_nicam + qnetlw_nicam "
   ]
  },
  {
   "cell_type": "code",
   "execution_count": 11,
   "id": "b556dc5d",
   "metadata": {},
   "outputs": [
    {
     "name": "stdout",
     "output_type": "stream",
     "text": [
      "CPU times: user 16min 45s, sys: 8min 35s, total: 25min 21s\n",
      "Wall time: 15min 25s\n"
     ]
    }
   ],
   "source": [
    "%%time\n",
    "### NICAM\n",
    "qsurf_nicam = net_fluxes(ds_nicam.where(trop_wpacific(ds_nicam))).compute()\n",
    "pe_nicam = get_pe(ds_nicam.where(trop_wpacific(ds_nicam))).compute()"
   ]
  },
  {
   "cell_type": "code",
   "execution_count": 12,
   "id": "82abe1db",
   "metadata": {},
   "outputs": [
    {
     "name": "stdout",
     "output_type": "stream",
     "text": [
      "CPU times: user 17min 8s, sys: 2min 45s, total: 19min 54s\n",
      "Wall time: 17min 18s\n"
     ]
    }
   ],
   "source": [
    "%%time\n",
    "### Unified model\n",
    "#qrad_um = net_cooling(ds_um.where(trop_wpacific(ds_um))).compute()\n",
    "qsurf_um = net_fluxes(ds_um.where(trop_wpacific(ds_um))).compute()\n",
    "pe_um = get_pe(ds_um.where(trop_wpacific(ds_um))).compute()"
   ]
  },
  {
   "cell_type": "code",
   "execution_count": 60,
   "id": "68fc1d94",
   "metadata": {},
   "outputs": [],
   "source": [
    "gamma_icon_calc = (qsurf_icon + qrad_icon)/ (pe_icon)\n",
    "gamma_nicam_calc = (qsurf_nicam + qrad_nicam)/ (pe_nicam)"
   ]
  },
  {
   "cell_type": "markdown",
   "id": "750d9351",
   "metadata": {},
   "source": [
    "## Plotting"
   ]
  },
  {
   "cell_type": "code",
   "execution_count": 14,
   "id": "8ec5cace",
   "metadata": {},
   "outputs": [],
   "source": [
    "def custom_plot(ax,ylabel=None,xlabel=None,title=None,xticklabels=False):\n",
    "    sns.despine(offset=10, ax=ax)\n",
    "    ax.set_xticks([-20,-5,0,5,20])\n",
    "    ax.set_xlabel(xlabel)\n",
    "    ax.set_ylabel(ylabel)\n",
    "    ax.set_title(title)\n",
    "    if xticklabels == False:\n",
    "        ax.set_xticklabels({})    "
   ]
  },
  {
   "cell_type": "markdown",
   "id": "c5eefe5e",
   "metadata": {},
   "source": [
    "#### Zonal mean"
   ]
  },
  {
   "cell_type": "code",
   "execution_count": 57,
   "id": "2a609788",
   "metadata": {},
   "outputs": [
    {
     "data": {
      "image/png": "[encoded data removed]",
      "text/plain": [
       "<Figure size 314.961x669.291 with 4 Axes>"
      ]
     },
     "metadata": {},
     "output_type": "display_data"
    }
   ],
   "source": [
    "sns.set_context(\"paper\")\n",
    "fig = plt.figure(figsize=(8/2.54, 17/2.54), facecolor=\"white\")\n",
    "\n",
    "ax = fig.add_subplot(411)\n",
    "qrad_icon.groupby(\"lat\").mean().plot(color=\"b\")\n",
    "qrad_nicam.groupby(\"lat\").mean().plot(color=\"green\")\n",
    "custom_plot(ax,ylabel=r\" $\\overline{Q}_\\mathrm{rad}$ / W m$^{-2}$\"\n",
    ")\n",
    "\n",
    "ax = fig.add_subplot(412)\n",
    "qsurf_icon.groupby(\"lat\").mean().plot(color=\"b\")\n",
    "qsurf_nicam.groupby(\"lat\").mean().plot(color=\"green\")\n",
    "qsurf_um.groupby(\"lat\").mean().plot(color=\"orange\")\n",
    "custom_plot(ax,ylabel=r\" $\\overline{Q}_\\mathrm{surf}$ / W m$^{-2}$\"\n",
    ")\n",
    "\n",
    "ax = fig.add_subplot(413)\n",
    "(qsurf_icon+qrad_icon).groupby(\"lat\").mean().plot(color=\"b\")\n",
    "(qsurf_nicam+qrad_nicam).groupby(\"lat\").mean().plot(color=\"green\")\n",
    "custom_plot(ax,ylabel=r\" $\\overline{Q}_\\mathrm{surf} + \\overline{Q}_\\mathrm{rad}$ / W m$^{-2}$\"\n",
    ")\n",
    "\n",
    "ax = fig.add_subplot(414)\n",
    "(pe_icon).groupby(\"lat\").mean().plot(color=\"b\",label='ICON')\n",
    "(pe_nicam).groupby(\"lat\").mean().plot(color=\"green\",label='NICAM')\n",
    "(pe_um).groupby(\"lat\").mean().plot(color=\"orange\",label='UM')\n",
    "custom_plot(ax,ylabel=r\" $\\overline{P} - \\overline{E}$ / W m$^{-2}$\",\n",
    "            xlabel=r\"Latitude / $\\degree$ N\",xticklabels=True)\n",
    "\n",
    "ax.legend(\n",
    "    loc=\"upper center\",\n",
    "    bbox_to_anchor=(0.5, -0.6),\n",
    "    ncol=3,\n",
    "    fancybox=False,\n",
    "    shadow=False,\n",
    "    frameon=False\n",
    ")\n",
    "plt.subplots_adjust(hspace=0.5)"
   ]
  },
  {
   "cell_type": "markdown",
   "id": "08fa4f69",
   "metadata": {},
   "source": [
    "#### $\\Gamma$ : Histogram Western Pacific"
   ]
  },
  {
   "cell_type": "code",
   "execution_count": 61,
   "id": "663de458",
   "metadata": {},
   "outputs": [],
   "source": [
    "hist_gammac_icon_wpacific= np.histogram((gamma_icon_calc).where( \n",
    "    eq_wpacific(gamma_icon_calc) & (pe_icon>0)),bins=np.arange(-2,2,0.1),\n",
    "                                  density=True)\n",
    "\n",
    "hist_gammac_nicam_wpacific = np.histogram((gamma_nicam_calc).where(\n",
    "    eq_wpacific(gamma_nicam_calc) & (pe_nicam>0) ),bins=np.arange(-2,2,0.1),\n",
    "                                  density=True)\n",
    "                                                "
   ]
  },
  {
   "cell_type": "code",
   "execution_count": 62,
   "id": "9509d791",
   "metadata": {},
   "outputs": [
    {
     "data": {
      "text/plain": [
       "<matplotlib.legend.Legend at 0x7fff2c5a7790>"
      ]
     },
     "execution_count": 62,
     "metadata": {},
     "output_type": "execute_result"
    },
    {
     "data": {
      "image/png": "[encoded data removed]",
      "text/plain": [
       "<Figure size 393.701x236.22 with 1 Axes>"
      ]
     },
     "metadata": {},
     "output_type": "display_data"
    }
   ],
   "source": [
    "sns.set_context(\"paper\")\n",
    "fig = plt.figure(figsize=(10/2.54,6/2.54), facecolor=\"white\")\n",
    "ax = fig.add_subplot(1,1,1)\n",
    "ax.plot(hist_gammac_icon_wpacific[1][1:],hist_gammac_icon_wpacific[0],'-b',label='ICON')\n",
    "ax.plot(hist_gammac_nicam_wpacific[1][1:],hist_gammac_nicam_wpacific[0],'-g',label='NICAM')\n",
    "\n",
    "plt.legend()\n",
    "ax.set_xlim([-1,2])\n",
    "sns.despine(offset=10)\n",
    "ax.set_ylabel('PDF')\n",
    "ax.set_xlabel(r'$\\Gamma$')\n",
    "ax.legend(\n",
    "    loc=\"lower center\",\n",
    "    bbox_to_anchor=(0.5, -0.5),\n",
    "    ncol=2,\n",
    "    fancybox=False,\n",
    "    shadow=False,\n",
    "    frameon=False\n",
    ")"
   ]
  },
  {
   "cell_type": "code",
   "execution_count": null,
   "id": "f8d01007",
   "metadata": {},
   "outputs": [],
   "source": []
  }
 ],
 "metadata": {
  "kernelspec": {
   "display_name": "0 Python 3 (based on the module python3/unstable",
   "language": "python",
   "name": "python3_unstable"
  },
  "language_info": {
   "codemirror_mode": {
    "name": "ipython",
    "version": 3
   },
   "file_extension": ".py",
   "mimetype": "text/x-python",
   "name": "python",
   "nbconvert_exporter": "python",
   "pygments_lexer": "ipython3",
   "version": "3.10.10"
  }
 },
 "nbformat": 4,
 "nbformat_minor": 5
}
