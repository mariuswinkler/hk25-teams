{
 "cells": [
  {
   "cell_type": "markdown",
   "id": "6edaa33c-5db2-4448-9ea8-be7b6f1c614a",
   "metadata": {},
   "source": [
    "# Tracking TCs using the UZ algorithm in TempestExtremes"
   ]
  },
  {
   "cell_type": "markdown",
   "id": "0ba2fbe0-dc12-480f-9e4b-7d8550b57110",
   "metadata": {},
   "source": [
    "**Before you start:**\n",
    "\n",
    "1. First, make sure this notebook is opened with the bash kernel!!\n",
    "\n",
    "2. Also, make sure you have installed TempestExtremes with instructions from `TE_intro.ipynb`.\n",
    "\n",
    "3. Check the units of your data: below we assume that psl is in Pa, zg is in m, pressure levels are in hPa.  If it is not the case, adapt the code accordingly. You may also need to adjust variable names."
   ]
  },
  {
   "cell_type": "code",
   "execution_count": null,
   "id": "f53587eb-ce99-415d-a617-bfae4a532c6f",
   "metadata": {},
   "outputs": [],
   "source": [
    "# Activate the conda environment in which tempestextremes has been install\n",
    "# (If error, make sure you have installed TempestExtremes as explained in `TE_intro.ipynb`).\n",
    "conda activate tempestextremes"
   ]
  },
  {
   "cell_type": "code",
   "execution_count": null,
   "id": "db1d6c04-2e6f-4f8b-bc4e-b7230d5975c9",
   "metadata": {},
   "outputs": [],
   "source": [
    "# Create nodes directory if it does not exists already\n",
    "if ! [ -d nodes ]\n",
    "then\n",
    "    mkdir nodes\n",
    "fi\n",
    "# Create tracks directory if it does not exists already\n",
    "if ! [ -d tracks ]\n",
    "then\n",
    "    mkdir tracks\n",
    "fi"
   ]
  },
  {
   "cell_type": "markdown",
   "id": "d368fa6d-e6e9-4a79-b2af-811190c25300",
   "metadata": {},
   "source": [
    "## DetectNodes on one time step"
   ]
  },
  {
   "cell_type": "code",
   "execution_count": null,
   "id": "52c3ae6b-79bb-4a37-a53e-0fd653795f66",
   "metadata": {},
   "outputs": [],
   "source": [
    "# Directory with the pre-processed simulation files for a given time step\n",
    "simu_name=um_glm_n2560_RAL3p3\n",
    "input_dir=/work/scratch-nopw2/sbourdin/$simu_name/data_pp\n",
    "time_step=2020-01-20T00\n",
    "flist=`ls $input_dir/$simu_name/*$time_step*`\n",
    "echo $simu_name \"--\" $time_step ':' $flist"
   ]
  },
  {
   "cell_type": "code",
   "execution_count": null,
   "id": "3996a223-54b9-4d7e-aaee-dc522e9bcb51",
   "metadata": {},
   "outputs": [],
   "source": [
    "# Prepare input list:\n",
    "# DetectNodes needs input files to be listed with ;\n",
    "INPUT=\"\"\n",
    "for f in $flist\n",
    "do\n",
    "INPUT=\"$INPUT$f;\"\n",
    "done\n",
    "INPUT=${INPUT:0:-1} # Remove last ;\n",
    "echo $INPUT"
   ]
  },
  {
   "cell_type": "code",
   "execution_count": null,
   "id": "4ea19dc3-184f-45db-a62e-25c1e5f5b584",
   "metadata": {},
   "outputs": [],
   "source": [
    "echo `date`\n",
    "DetectNodes \\\n",
    "--in_data $INPUT \\\n",
    "--out nodes/$time_step.dat \\\n",
    "--searchbymin \"psl\" \\\n",
    "--closedcontourcmd \"psl,200.0,5.5,0;_DIFF(zg250,zg500),-6,6.5,1.0\" \\\n",
    "--mergedist 6.0 \\\n",
    "--outputcmd \"psl,min,0;_VECMAG(uas,vas),max,2\"\n",
    "echo `date`"
   ]
  },
  {
   "cell_type": "markdown",
   "id": "56407268-5124-4276-99e5-051b3b4c3011",
   "metadata": {},
   "source": [
    "## DetectNodes on several time steps"
   ]
  },
  {
   "cell_type": "code",
   "execution_count": null,
   "id": "f01c38fe-3c37-4f96-acfd-362ac68bc300",
   "metadata": {
    "scrolled": true
   },
   "outputs": [],
   "source": [
    "# Directory with the pre-processed simulation files for a given time step\n",
    "input_dir=/work/scratch-nopw2/sbourdin/data_pp/\n",
    "simu_name=um_glm_n2560_RAL3p3\n",
    "time_steps=`ls $input_dir/$simu_name/*psl* | cut -d '_' -f10 | cut -d '.' -f1`\n",
    "for time_step in $time_steps\n",
    "do\n",
    "    if ! [ -f nodes/$time_step.dat ] # If file does not already exists\n",
    "    then\n",
    "        # Prepare file list\n",
    "        flist=`ls $input_dir/$simu_name/*$time_step*`\n",
    "        echo $simu_name \"--\" $time_step ':' $flist\n",
    "        \n",
    "        # Prepare input list\n",
    "        INPUT=\"\"\n",
    "        for f in $flist\n",
    "        do\n",
    "        INPUT=\"$INPUT$f;\"\n",
    "        done\n",
    "        INPUT=${INPUT:0:-1} # Remove last ;\n",
    "        echo $INPUT\n",
    "    \n",
    "        # DetectNodes\n",
    "        DetectNodes \\\n",
    "            --in_data $INPUT \\\n",
    "            --out nodes/$time_step.dat \\\n",
    "            --searchbymin \"psl\" \\\n",
    "            --closedcontourcmd \"psl,200.0,5.5,0;_DIFF(zg250,zg500),-6,6.5,1.0\" \\\n",
    "            --mergedist 6.0 \\\n",
    "            --outputcmd \"psl,min,0;_VECMAG(uas,vas),max,2\"\n",
    "    else\n",
    "        echo \"$time_step already computed\"\n",
    "    fi\n",
    "done"
   ]
  },
  {
   "cell_type": "markdown",
   "id": "3c43e7ef-aa1a-4f5a-bd28-261cbcb63a06",
   "metadata": {},
   "source": [
    "## StitchNodes"
   ]
  },
  {
   "cell_type": "code",
   "execution_count": null,
   "id": "64fe6712-3286-45b8-b450-145bcbc05a2f",
   "metadata": {},
   "outputs": [],
   "source": [
    "ls nodes/*"
   ]
  },
  {
   "cell_type": "code",
   "execution_count": null,
   "id": "4ed88929-2f4d-42df-b83a-ce7010801c1f",
   "metadata": {},
   "outputs": [],
   "source": [
    "flist=`ls nodes/*`\n",
    "cat $flist > all_nodes.dat\n",
    "StitchNodes \\\n",
    "--in all_nodes.dat \\\n",
    "--out tracks/$simu_name.csv \\\n",
    "--out_file_format \"csv\" \\\n",
    "--in_fmt \"lon,lat,slp,wind\" \\\n",
    "--range 8.0 \\\n",
    "--mintime \"54h\" \\\n",
    "--maxgap \"24h\" \\\n",
    "--threshold \"wind,>=,10.0,10;lat,<=,50.0,10;lat,>=,-50.0,10\""
   ]
  },
  {
   "cell_type": "code",
   "execution_count": null,
   "id": "101256a9-efc7-4dc0-a056-24720de74f84",
   "metadata": {},
   "outputs": [],
   "source": []
  }
 ],
 "metadata": {
  "kernelspec": {
   "display_name": "Bash",
   "language": "bash",
   "name": "bash"
  },
  "language_info": {
   "codemirror_mode": "shell",
   "file_extension": ".sh",
   "mimetype": "text/x-sh",
   "name": "bash"
  }
 },
 "nbformat": 4,
 "nbformat_minor": 5
}
