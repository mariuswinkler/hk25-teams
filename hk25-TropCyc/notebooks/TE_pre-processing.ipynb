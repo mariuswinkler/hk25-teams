{
 "cells": [
  {
   "cell_type": "markdown",
   "id": "dcce54b5-82db-4f65-b1e4-7f2d0ef7b97c",
   "metadata": {},
   "source": [
    "# Simple pre-processing of HEALPix output for cyclone tracking with TempestExtremes\n",
    "\n",
    "By Alex Baker\n",
    "\n",
    "* This takes approx. 3 hours to run for N2560 data. If you're familiar with batch processing on JASMIN, this will speed up processing time. A script is available to do this.\n",
    "\n",
    "[Edit by Stella] Modified the number of cells to actually represent 0.2° grid. The higher number makes TempestExtremes very slow."
   ]
  },
  {
   "cell_type": "code",
   "execution_count": null,
   "id": "a27715a6-40cc-4722-a2a2-70025a464095",
   "metadata": {},
   "outputs": [],
   "source": [
    "import os, intake, datetime\n",
    "import xarray as xr\n",
    "import numpy as np\n",
    "import easygems.healpix as egh\n",
    "import healpix as hp\n",
    "from tqdm import tqdm"
   ]
  },
  {
   "cell_type": "code",
   "execution_count": null,
   "id": "09c0130d-75f9-49a9-afce-d9599c164715",
   "metadata": {},
   "outputs": [],
   "source": [
    "# Select zoom level, variables and levels\n",
    "zoom = 9\n",
    "variables_1h_2d = ['psl','uas','vas']   # TempestExtremes tracking is psl-based, with surface wind maxima added to tracks\n",
    "variables_3h_3d = ['zg']   # zg is used by TempestExtremes for warm-core detection and (later, optionally) computing cyclone phase-space parameters (see Stella Bourdin's code)\n",
    "plevc = np.array([925,500,250])"
   ]
  },
  {
   "cell_type": "code",
   "execution_count": null,
   "id": "d593e459-993a-4401-8c63-361f3d477465",
   "metadata": {},
   "outputs": [],
   "source": [
    "cat = intake.open_catalog('https://digital-earths-global-hackathon.github.io/catalog/catalog.yaml')['online']"
   ]
  },
  {
   "cell_type": "code",
   "execution_count": null,
   "id": "3dec0068-19b0-4fa5-b7f9-9052b90741cd",
   "metadata": {},
   "outputs": [],
   "source": [
    "# List UM simulations\n",
    "[key for key in cat if key.startswith('um_')]"
   ]
  },
  {
   "cell_type": "code",
   "execution_count": null,
   "id": "a7e3d9f1-9cf5-4e4f-b908-13fd95947dd5",
   "metadata": {},
   "outputs": [],
   "source": [
    "# Select simulation and make an output directory (this may need to be on a group workspace or on scratch, rather than ~/)\n",
    "#run = 'um_glm_n1280_GAL9'\n",
    "run = 'um_glm_n2560_RAL3p3'\n",
    "\n",
    "working_dir = '/work/scratch-nopw2/sbourdin/'\n",
    "output_dir = os.path.join(working_dir,'data_pp/',run)\n",
    "if not os.path.isdir(output_dir):\n",
    "    os.makedirs(output_dir)"
   ]
  },
  {
   "cell_type": "code",
   "execution_count": null,
   "id": "bc0f5f11-2053-4a1d-8462-ac6c63b7375a",
   "metadata": {
    "scrolled": true
   },
   "outputs": [],
   "source": [
    "ds_1h_2d = cat[run](zoom=zoom, time='PT1H').to_dask()#.pipe(egh.attach_coords)\n",
    "#ds_3h_3d = cat[run](zoom=zoom, time='PT3H').to_dask()#.pipe(egh.attach_coords)"
   ]
  },
  {
   "cell_type": "code",
   "execution_count": null,
   "id": "659bc9dc-b5ab-49c4-a0bc-04c8de53af9c",
   "metadata": {},
   "outputs": [],
   "source": [
    "# Set up grid\n",
    "# Find the HEALPix pixels that are closest to the native grid, for example, the .1x.1 degree grid points.\n",
    "# N.B. A 1x1 has lines at lon=90, 180, 270 (need to avoid these).\n",
    "\n",
    "#lon = np.arange(0, 360, 0.2)\n",
    "#lat = np.arange(90, -91, -0.2)\n",
    "lon = np.linspace(0, 360, 1800)\n",
    "lat = np.linspace(90, -90, 900)\n",
    "\n",
    "pix = xr.DataArray(\n",
    "    hp.ang2pix(ds_1h_2d.crs.healpix_nside, *np.meshgrid(lon, lat), nest=True, lonlat=True),\n",
    "    coords=((\"lat\", lat), (\"lon\", lon)))"
   ]
  },
  {
   "cell_type": "code",
   "execution_count": null,
   "id": "d2b9bec7-2ccf-46c8-bcb3-9ba48b6f9bc5",
   "metadata": {},
   "outputs": [],
   "source": [
    "# Make a test plot with remapped data for a given variable and time.\n",
    "ds_1h_2d.psl.sel(time=\"2020-01-20 06:00\").isel(cell=pix).plot()"
   ]
  },
  {
   "cell_type": "code",
   "execution_count": null,
   "id": "5fc5449d-44f2-47fd-98a8-fc779fc83c70",
   "metadata": {
    "scrolled": true
   },
   "outputs": [],
   "source": [
    "%%time\n",
    "\n",
    "# Loop over dataset, saving a file for each timestep (these can be combined later using \"cdo cat...\", if preferred)\n",
    "date_start = str(ds_1h_2d.time[0].to_numpy())[:10]\n",
    "date_end = str(ds_1h_2d.time[-2].to_numpy())[:10]\n",
    "print('date start: {}'.format(date_start))\n",
    "print('date end: {}'.format(date_end))\n",
    "\n",
    "for var in variables_1h_2d:\n",
    "    print(var)\n",
    "    for t in tqdm(ds_1h_2d.time.values[::6]):   # select 6 hourly data\n",
    "        output_fn = '_'.join([run,var,str(t)[:13]])+'.nc'\n",
    "        output_ffp = os.path.join(output_dir,output_fn)\n",
    "        d = ds_1h_2d[var].sel(time=t).isel(cell=pix)\n",
    "        d.to_netcdf(output_ffp)\n",
    "        \n",
    "for var in variables_3h_3d:\n",
    "    print(var)\n",
    "    for t in tqdm(ds_3h_3d.time.values[::2]):   # select 6 hourly data\n",
    "        output_fn = '_'.join([run,var,str(t)[:13]])+'.nc'\n",
    "        output_ffp = os.path.join(output_dir,output_fn)\n",
    "        d = ds_3h_3d[var].sel(time=t,pressure=plevc).isel(cell=pix)\n",
    "        d.to_netcdf(output_ffp)"
   ]
  },
  {
   "cell_type": "code",
   "execution_count": null,
   "id": "202746b0-8a8c-49e2-beda-a32be3e02f61",
   "metadata": {},
   "outputs": [],
   "source": []
  }
 ],
 "metadata": {
  "kernelspec": {
   "display_name": "hackathon",
   "language": "python",
   "name": "hackathon"
  },
  "language_info": {
   "codemirror_mode": {
    "name": "ipython",
    "version": 3
   },
   "file_extension": ".py",
   "mimetype": "text/x-python",
   "name": "python",
   "nbconvert_exporter": "python",
   "pygments_lexer": "ipython3",
   "version": "3.12.10"
  }
 },
 "nbformat": 4,
 "nbformat_minor": 5
}
