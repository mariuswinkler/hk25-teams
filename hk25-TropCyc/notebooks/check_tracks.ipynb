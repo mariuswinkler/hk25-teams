{
 "cells": [
  {
   "cell_type": "code",
   "execution_count": null,
   "id": "c8411ff2-a427-4df2-8040-821365aeec50",
   "metadata": {},
   "outputs": [],
   "source": [
    "import huracanpy"
   ]
  },
  {
   "cell_type": "code",
   "execution_count": null,
   "id": "a0b1e3d7-5ab2-4113-9bd5-198c3728dd00",
   "metadata": {},
   "outputs": [],
   "source": [
    "tracks = huracanpy.load(\"../TC_tracks/um_glm_n1280_GAL9.csv\")"
   ]
  },
  {
   "cell_type": "code",
   "execution_count": null,
   "id": "19a70a12-5038-4270-bb03-c3262c2ffd57",
   "metadata": {},
   "outputs": [],
   "source": [
    "tracks.hrcn.plot_tracks()"
   ]
  },
  {
   "cell_type": "code",
   "execution_count": null,
   "id": "a9dc7ef3-5726-47ac-b4ea-c933900edcf5",
   "metadata": {},
   "outputs": [],
   "source": []
  }
 ],
 "metadata": {
  "kernelspec": {
   "display_name": "hackathon",
   "language": "python",
   "name": "hackathon"
  },
  "language_info": {
   "codemirror_mode": {
    "name": "ipython",
    "version": 3
   },
   "file_extension": ".py",
   "mimetype": "text/x-python",
   "name": "python",
   "nbconvert_exporter": "python",
   "pygments_lexer": "ipython3",
   "version": "3.12.10"
  }
 },
 "nbformat": 4,
 "nbformat_minor": 5
}
