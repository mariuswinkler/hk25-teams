{
 "cells": [
  {
   "cell_type": "markdown",
   "id": "dc385ba8-8c95-4117-a241-5142e8e1eb57",
   "metadata": {
    "panel-layout": {
     "height": 316.5333251953125,
     "visible": true,
     "width": 100
    }
   },
   "source": [
    "# Demonstrate intake access to UM DYAMOND3 simulations from zarr on JASMIN object store: v5 version\n",
    "\n",
    "### 12/5/25\n",
    "\n",
    "* **Final look at simulations for WCRP Hackathon UK Node. v5 is the final version of the global data**\n",
    "* **Zoom level 9-0 (regional)**\n",
    "* **Stores not complete for South America regional**\n",
    "* **However these stores will be filled in as the simulation data becomes avialable. We will let other nodes know when they are complete**\n",
    "* Shows the hierarchy of simulations that will/should be available at the UK node, from global to regional.\n",
    "* You can see the URLs which are active in the `cat` catalog.\n",
    "* Contact mark.muetzelfeldt@reading.ac.uk for more info.\n",
    "\n",
    "## Simulations\n",
    "\n",
    "* glm: global model. n1280 is approx. 10 km res (stored at zoom 9), n2560 is 5 km (zoom 10). Regional simulations are at 4.4 km (zoom 10).\n",
    "* Regional: Africa, South East Asia, South America, Cyclic Tropical Channel\n",
    "* Settings:\n",
    "    * CoMA9: CoMorph global,\n",
    "    * RAL3: Regional Atmosphere Land 3\n",
    "    * GAL9: Global Atmosphere Land 9\n",
    "    * RAL3p3: RAL3.3\n",
    "    * CoMA9_TBv1: CoMA9 TrailBlazer v1\n",
    "\n",
    "## Technical\n",
    "\n",
    "* All data stored as healpix, including regional.\n",
    "* Regional simulations only store active chunks.\n",
    "* Regional data necessarily has `nan`s to represent data outside the domain. This can cause issues when calculating domain means at different zooms. The `weights` field should help mitigate this (instructions to follow).\n",
    "* There are two stores for each zoom level, one for `PT1H` (2D) and `PT3H` (3D) variables. All simulations are in the `sims` variable.\n",
    "* Calling `ds = ds.compute()` downloads the data from JASMIN. This can be slow and/or fail with a server error. Try again if this happens.\n",
    "* Tested using this Python conda env: https://github.com/digital-earths-global-hackathon/tools/blob/main/python_envs/environment.yaml (with some extra packages).\n",
    "    * You can install with:\n",
    "    * `wget https://raw.githubusercontent.com/digital-earths-global-hackathon/tools/refs/heads/main/python_envs/environment.yaml`\n",
    "    * <edit last line of environment.yaml to be the name of your new env, e.g. hackathon_env>\n",
    "    * `conda env create -f environment.yaml`\n",
    "* Not all variables in the standard protocol are present - I have included those that are.\n",
    "* I believe there is a plotting issue at lon=0 - and that data is OK.\n",
    "\n",
    "## Issues\n",
    "\n",
    "* CTC simulations where I think there is a genuine regridding issue at lon=0 where healpix data may be missing (simulations are fine)\n",
    "* Data not complete at zooms 9-0 (regional), although empty zarr stores are present\n",
    "* Five 3D variables have the pressure coordinate the wrong way round: cli, clw, qg, qr, qs"
   ]
  },
  {
   "cell_type": "code",
   "execution_count": null,
   "id": "1b838385-5241-4491-8518-c57523aedc63",
   "metadata": {},
   "outputs": [],
   "source": [
    "import math as maths\n",
    "\n",
    "import cartopy.crs as ccrs\n",
    "import intake\n",
    "import matplotlib.pyplot as plt\n",
    "import numpy as np\n",
    "import pandas as pd\n",
    "import xarray as xr\n",
    "\n",
    "import easygems.healpix as egh"
   ]
  },
  {
   "cell_type": "code",
   "execution_count": null,
   "id": "3d2278a4-6acf-4c02-b7e8-dc7f9666ede0",
   "metadata": {},
   "outputs": [],
   "source": [
    "import warnings\n",
    "\n",
    "# Suppress specific FutureWarnings matching the message pattern when using cat[...].to_dask()\n",
    "warnings.filterwarnings(\n",
    "    \"ignore\",\n",
    "    message=\".*The return type of `Dataset.dims` will be changed.*\",\n",
    "    category=FutureWarning,\n",
    ")"
   ]
  },
  {
   "cell_type": "code",
   "execution_count": null,
   "id": "f9f688a5-ca64-4b87-bdf3-46638c0284c3",
   "metadata": {},
   "outputs": [],
   "source": [
    "cat = intake.open_catalog('https://digital-earths-global-hackathon.github.io/catalog/catalog.yaml')['UK']"
   ]
  },
  {
   "cell_type": "code",
   "execution_count": null,
   "id": "494bdb29-c414-4b75-a0aa-9097296b412f",
   "metadata": {},
   "outputs": [],
   "source": [
    "# Show UM sims:\n",
    "[key for key in cat if key.startswith('um_')]"
   ]
  },
  {
   "cell_type": "markdown",
   "id": "6f1f4721-8924-4ac7-bb41-c7f4fcd88942",
   "metadata": {},
   "source": [
    "## Demonstrate access using 5km RAL3 (um_glm_n2560_RAL3p3)\n",
    "\n",
    "* This is the main hackathon simulation, and is complete as of 6/5/25 (i.e. all times/zooms stored)"
   ]
  },
  {
   "cell_type": "code",
   "execution_count": null,
   "id": "149d8135-0c89-4424-8f2f-54411c54564f",
   "metadata": {},
   "outputs": [],
   "source": [
    "sim = cat['um_glm_n2560_RAL3p3']"
   ]
  },
  {
   "cell_type": "code",
   "execution_count": null,
   "id": "56e9d040-e10c-42b7-bd60-8326a37edc83",
   "metadata": {},
   "outputs": [],
   "source": [
    "# Show example URL\n",
    "sim(zoom=8).urlpath"
   ]
  },
  {
   "cell_type": "code",
   "execution_count": null,
   "id": "dc373b77-b545-44d8-93c8-8a09c5dd101d",
   "metadata": {},
   "outputs": [],
   "source": [
    "# Open a dataset.\n",
    "ds = sim(zoom=8, time='PT1H').to_dask()"
   ]
  },
  {
   "cell_type": "code",
   "execution_count": null,
   "id": "6cdfe1c0-6d8e-4646-8b55-4745605540ef",
   "metadata": {},
   "outputs": [],
   "source": [
    "# Explore dataset. No data downloaded at this point, only metadata.\n",
    "ds"
   ]
  },
  {
   "cell_type": "code",
   "execution_count": null,
   "id": "54f2e61f-31b2-4d64-b30a-5943506f9646",
   "metadata": {},
   "outputs": [],
   "source": [
    "# Quick plot of global T at 1.5m\n",
    "egh.healpix_show(ds.isel(time=0).tas)"
   ]
  },
  {
   "cell_type": "code",
   "execution_count": null,
   "id": "8b405f21-37be-4de8-8b91-128bbd6a68dd",
   "metadata": {},
   "outputs": [],
   "source": [
    "def plot_all_fields(ds_plot):\n",
    "    \"\"\"Plot all fields for a given dataset. Assumes that each field is 2D - i.e. sel(time=..., [pressure=...]) has been applied\"\"\"\n",
    "    zoom = int(np.log2(ds_plot.crs.attrs['healpix_nside']))\n",
    "    projection = ccrs.Robinson(central_longitude=0)\n",
    "    rows = maths.ceil(len(ds_plot.data_vars) / 4)\n",
    "    fig, axes = plt.subplots(rows, 4, figsize=(30, rows * 20 / 6), subplot_kw={'projection': projection}, layout='constrained')\n",
    "    if 'pressure' in ds_plot.coords:\n",
    "        plt.suptitle(f'{ds.simulation} z{zoom} @{float(ds_plot.pressure)}hPa')\n",
    "    else:\n",
    "        plt.suptitle(f'{ds.simulation} z{zoom}')\n",
    "            \n",
    "    for ax, (name, da) in zip(axes.flatten(), ds_plot.data_vars.items()):\n",
    "        time = pd.Timestamp(ds.time.values[0])\n",
    "    \n",
    "        if abs(da.max() + da.min()) / (da.max() - da.min()) < 0.5:\n",
    "            # data looks like it needs a diverging cmap.\n",
    "            # figure out some nice bounds.\n",
    "            pl, pu = np.percentile(da.values[~np.isnan(da.values)], [2, 98])\n",
    "            vmax = np.abs([pl, pu]).max()\n",
    "            kwargs = dict(\n",
    "                cmap='bwr',\n",
    "                vmin=-vmax,\n",
    "                vmax=vmax,\n",
    "            )\n",
    "        else:\n",
    "            kwargs = {}\n",
    "        ax.set_title(f'time: {time} - {name}')\n",
    "        ax.set_global()\n",
    "        im = egh.healpix_show(da, ax=ax, **kwargs);\n",
    "        long_name = da.long_name\n",
    "            \n",
    "        plt.colorbar(im, label=f'{long_name} ({da.attrs.get(\"units\", \"-\")})')\n",
    "        ax.coastlines()"
   ]
  },
  {
   "cell_type": "code",
   "execution_count": null,
   "id": "fb8792d1-8071-442b-8d45-ad344956d01e",
   "metadata": {},
   "outputs": [],
   "source": [
    "# Download the requested data for plotting.\n",
    "ds3d = sim(time='PT3H', zoom=8).to_dask().sel(time='2020-01-20 03:00', pressure=500).compute()"
   ]
  },
  {
   "cell_type": "code",
   "execution_count": null,
   "id": "33736947-b692-419f-a322-6969cc8b95ec",
   "metadata": {},
   "outputs": [],
   "source": [
    "plot_all_fields(ds3d)"
   ]
  },
  {
   "cell_type": "code",
   "execution_count": null,
   "id": "488b9ba5-61fe-4f1a-85a6-6a55339aa355",
   "metadata": {},
   "outputs": [],
   "source": [
    "ds2d = sim(time='PT1H', zoom=8).to_dask().sel(time='2020-01-20 03:00').compute()"
   ]
  },
  {
   "cell_type": "code",
   "execution_count": null,
   "id": "fe120603-6b59-4910-8462-e92aee1c3654",
   "metadata": {},
   "outputs": [],
   "source": [
    "plot_all_fields(ds2d)"
   ]
  },
  {
   "cell_type": "markdown",
   "id": "648f1223-d4a7-4b33-8b70-f9cf68ac1094",
   "metadata": {},
   "source": [
    "## Explore the Africa regional sim\n",
    "\n",
    "* Not all data available, use zoom 10 (highest resolution)"
   ]
  },
  {
   "cell_type": "code",
   "execution_count": null,
   "id": "74d233d5-f65c-411c-bb5b-a8a25107cfcb",
   "metadata": {},
   "outputs": [],
   "source": [
    "ds_africa = cat['um_Africa_km4p4_RAL3P3_n1280_GAL9_nest'](time='PT1H', zoom=10).to_dask().sel(time='2020-01-20 03:00').compute()"
   ]
  },
  {
   "cell_type": "code",
   "execution_count": null,
   "id": "917e6b79-9dbe-4c51-bdc0-53c806ec8a97",
   "metadata": {},
   "outputs": [],
   "source": [
    "plot_all_fields(ds_africa)"
   ]
  },
  {
   "cell_type": "markdown",
   "id": "df585942-edc0-4fe4-add2-36dfcecdad2a",
   "metadata": {},
   "source": [
    "## Plot all sims in single plot"
   ]
  },
  {
   "cell_type": "code",
   "execution_count": null,
   "id": "4395de3a-5ec1-4585-ac18-f10398aac46e",
   "metadata": {},
   "outputs": [],
   "source": [
    "um_sims = [k for k in cat.keys() if k.startswith('um_')]"
   ]
  },
  {
   "cell_type": "code",
   "execution_count": null,
   "id": "b4910602-fd49-441d-82d5-b27366e5110b",
   "metadata": {},
   "outputs": [],
   "source": [
    "# Get dataset for all available sims.\n",
    "dss = {}\n",
    "for simname in um_sims:\n",
    "    zoom = 9 if 'um_glm_n1280' in simname else 10\n",
    "    try:\n",
    "        dss[simname] = cat[simname](time='PT1H', zoom=zoom).to_dask()\n",
    "    except Exception as e:\n",
    "        print(f'Could not load {simname}')\n",
    "        print(e)"
   ]
  },
  {
   "cell_type": "code",
   "execution_count": null,
   "id": "a9defd61-87bd-4939-b010-739e93822998",
   "metadata": {},
   "outputs": [],
   "source": [
    "# Sort to nicer order for plotting.\n",
    "def sorter(simname):\n",
    "    if 'um_glm_n2560' in simname:\n",
    "        return 'A'\n",
    "    elif 'um_glm_n1280' in simname:\n",
    "        return 'AA'\n",
    "    else:\n",
    "        return simname\n",
    "\n",
    "dss = {s: dss[s] for s in sorted(dss.keys(), key=sorter)}"
   ]
  },
  {
   "cell_type": "code",
   "execution_count": null,
   "id": "78193f22-e3ba-4598-b28e-eb39c66b7485",
   "metadata": {},
   "outputs": [],
   "source": [
    "def plot_var(plot_dss, var, time, **plot_kwargs):\n",
    "    \"\"\"Plot given var from each dataset.\"\"\"\n",
    "    rows = maths.ceil(len(plot_dss) / 3)\n",
    "    projection = ccrs.Robinson(central_longitude=0)\n",
    "    fig, axes = plt.subplots(rows, 3, figsize=(30, 5 * rows), subplot_kw={'projection': projection}, layout='constrained')\n",
    "            \n",
    "    for ax, (name, ds) in zip(axes.flatten(), plot_dss.items()):\n",
    "        time = pd.Timestamp(ds.time.values[0])\n",
    "        da = ds[var].sel(time=time).compute()\n",
    "    \n",
    "        if abs(da.max() + da.min()) / (da.max() - da.min()) < 0.5:\n",
    "            # data looks like it needs a diverging cmap.\n",
    "            # figure out some nice bounds.\n",
    "            pl, pu = np.percentile(da.values[~np.isnan(da.values)], [2, 98])\n",
    "            vmax = np.abs([pl, pu]).max()\n",
    "            kwargs = dict(\n",
    "                cmap='bwr',\n",
    "                vmin=-vmax,\n",
    "                vmax=vmax,\n",
    "            )\n",
    "        else:\n",
    "            kwargs = {}\n",
    "        kwargs.update(plot_kwargs)\n",
    "        ax.set_title(f'time: {time} - {name}')\n",
    "        ax.set_global()\n",
    "        if ds.attrs.get('regional', False):\n",
    "            # Display the active chunks for any regional data.\n",
    "            ds_ones = xr.Dataset({'ones': (['cell'], np.ones_like(ds.isel(time=0).tas))}, coords={'cell': ds.cell}).assign_coords(crs=ds.crs)\n",
    "            egh.healpix_show(ds_ones.ones, ax=ax)\n",
    "        im = egh.healpix_show(da, ax=ax, **kwargs);\n",
    "        long_name = da.long_name\n",
    "            \n",
    "        plt.colorbar(im, label=f'{long_name} ({da.attrs.get(\"units\", \"-\")})')\n",
    "        ax.coastlines()"
   ]
  },
  {
   "cell_type": "code",
   "execution_count": null,
   "id": "64910612-7834-44cc-8672-7698df0796af",
   "metadata": {},
   "outputs": [],
   "source": [
    "# Display tas/air_temperature for all available sims.\n",
    "# For regional data, this also shows the active chunks (purply jagged outline). Only active chunks are saved to minimize memory reqs on host computer when loading data.\n",
    "plot_var(dss, 'tas', '2020-01-20 10:00', vmin=215, vmax=310)"
   ]
  },
  {
   "cell_type": "code",
   "execution_count": null,
   "id": "e03f3aaf-2480-4c65-8416-474383a6c9eb",
   "metadata": {},
   "outputs": [],
   "source": []
  }
 ],
 "metadata": {
  "kernelspec": {
   "display_name": "hackathon_env",
   "language": "python",
   "name": "hackathon_env"
  },
  "language_info": {
   "codemirror_mode": {
    "name": "ipython",
    "version": 3
   },
   "file_extension": ".py",
   "mimetype": "text/x-python",
   "name": "python",
   "nbconvert_exporter": "python",
   "pygments_lexer": "ipython3",
   "version": "3.12.9"
  }
 },
 "nbformat": 4,
 "nbformat_minor": 5
}
