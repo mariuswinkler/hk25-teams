{
 "cells": [
  {
   "cell_type": "markdown",
   "id": "497014e8-1885-43d2-9cca-2ed4da34b5e7",
   "metadata": {},
   "source": [
    "# demo simple-track on JASMIN\n",
    "\n",
    "* Developed by Calum Scullion (calum.scullion@metoffice.gov.uk) and Mark Muetzelfeldt (mark.muetzelfeldt@reading.ac.uk)\n",
    "* Used a modified version of the simple-track code to produce tracks. Original code found here: https://github.com/thmstein/simple-track\n",
    "* Can only be run on JASMIN"
   ]
  },
  {
   "cell_type": "code",
   "execution_count": 1,
   "id": "89a3f92b-de33-41c2-b919-cb2d8a708cbb",
   "metadata": {
    "execution": {
     "iopub.execute_input": "2025-05-09T09:12:05.741705Z",
     "iopub.status.busy": "2025-05-09T09:12:05.741632Z",
     "iopub.status.idle": "2025-05-09T09:12:06.382876Z",
     "shell.execute_reply": "2025-05-09T09:12:06.382595Z",
     "shell.execute_reply.started": "2025-05-09T09:12:05.741695Z"
    }
   },
   "outputs": [],
   "source": [
    "import pickle\n",
    "from pathlib import Path\n",
    "\n",
    "import numpy as np\n",
    "import matplotlib.pyplot as plt\n",
    "import matplotlib as mpl\n",
    "import cartopy.crs as ccrs\n",
    "\n",
    "# Reduce figure size.\n",
    "mpl.rcParams['figure.dpi'] = 72\n",
    "\n",
    "# Need module `classes` to be available in namespace before we can unpickle tracks.\n",
    "import classes  # Technically you don't need to import but do it explicitly so people can see where the classes are defined."
   ]
  },
  {
   "cell_type": "code",
   "execution_count": 2,
   "id": "43f397f6-2ee4-45dd-997f-e79acc91c77c",
   "metadata": {
    "execution": {
     "iopub.execute_input": "2025-05-09T09:12:06.383399Z",
     "iopub.status.busy": "2025-05-09T09:12:06.383309Z",
     "iopub.status.idle": "2025-05-09T09:12:06.385520Z",
     "shell.execute_reply": "2025-05-09T09:12:06.385314Z",
     "shell.execute_reply.started": "2025-05-09T09:12:06.383389Z"
    }
   },
   "outputs": [],
   "source": [
    "basepath = Path('/work/scratch-nopw2/cscullio/MCS_tracking_fd/DYMECS/')\n",
    "dirpath_tpl = '{dataset}/Tb/40000km2/tracks/241K/20200201-20210228/fixed/geom_cen/60min/sm_5pixels/halo_0pixels/removed_false_mergers/on_GPM_True/'\n",
    "datasets = ['5km-RAL3', 'CTC_km4p4_RAL3P3', '10km-GAL9', '10km-CoMA9 and 5km-RAL3']\n",
    "\n",
    "dataset = '5km-RAL3'\n",
    "assert dataset in datasets, f'{dataset} not recognized'\n",
    "dirpath = basepath / dirpath_tpl.format(dataset=dataset)"
   ]
  },
  {
   "cell_type": "code",
   "execution_count": 3,
   "id": "94c54312-ba57-46dd-aff6-29cbe97872d8",
   "metadata": {
    "execution": {
     "iopub.execute_input": "2025-05-09T09:12:06.385901Z",
     "iopub.status.busy": "2025-05-09T09:12:06.385832Z",
     "iopub.status.idle": "2025-05-09T09:12:06.390918Z",
     "shell.execute_reply": "2025-05-09T09:12:06.390712Z",
     "shell.execute_reply.started": "2025-05-09T09:12:06.385892Z"
    }
   },
   "outputs": [
    {
     "name": "stdout",
     "output_type": "stream",
     "text": [
      "['tracks_202002.p', 'tracks_202003.p', 'tracks_202004.p', 'tracks_202005.p', 'tracks_202006.p', 'tracks_202007.p', 'tracks_202008.p', 'tracks_202009.p', 'tracks_202010.p', 'tracks_202011.p', 'tracks_202012.p', 'tracks_202101.p', 'tracks_202102.p']\n"
     ]
    }
   ],
   "source": [
    "pkl_paths = sorted(dirpath.glob('tracks_*.p'))\n",
    "print([p.name for p in pkl_paths])\n",
    "pkl_path = pkl_paths[0]"
   ]
  },
  {
   "cell_type": "code",
   "execution_count": 4,
   "id": "ee21c251-ba7d-4959-97e8-5644453b891b",
   "metadata": {
    "execution": {
     "iopub.execute_input": "2025-05-09T09:12:06.391314Z",
     "iopub.status.busy": "2025-05-09T09:12:06.391237Z",
     "iopub.status.idle": "2025-05-09T09:12:10.978718Z",
     "shell.execute_reply": "2025-05-09T09:12:10.978344Z",
     "shell.execute_reply.started": "2025-05-09T09:12:06.391306Z"
    }
   },
   "outputs": [],
   "source": [
    "# Loads tracks from the UM 5km RAL3 stored as a pickle in JASMIN scratch.\n",
    "with pkl_path.open('rb') as f:\n",
    "    tracks = pickle.load(f)"
   ]
  },
  {
   "cell_type": "code",
   "execution_count": 5,
   "id": "5c61fad8-500a-4912-b98f-a3bf4b75903b",
   "metadata": {
    "execution": {
     "iopub.execute_input": "2025-05-09T09:12:10.989138Z",
     "iopub.status.busy": "2025-05-09T09:12:10.989036Z",
     "iopub.status.idle": "2025-05-09T09:12:10.991705Z",
     "shell.execute_reply": "2025-05-09T09:12:10.991430Z",
     "shell.execute_reply.started": "2025-05-09T09:12:10.989127Z"
    }
   },
   "outputs": [],
   "source": [
    "# Required to estimate storm size\n",
    "def haversine(src, dest):\n",
    "    # src/dest = (lat, lon)\n",
    "    # Returns distance in km\n",
    "    src = np.radians(src)\n",
    "    dest = np.radians(dest)\n",
    "    a = (np.sin(0.5 * (src[0]-dest[0]))**2 + np.cos(src[0]) * np.cos(dest[0]) * np.sin(0.5 * (src[1]-dest[1]))**2)\n",
    "    angsep_in_rad = 2.0 * np.arctan2(np.sqrt(a), np.sqrt(1.0-a))\n",
    "    return angsep_in_rad / 1000.0 * 6371229.0"
   ]
  },
  {
   "cell_type": "code",
   "execution_count": 6,
   "id": "8d26f76f-5e0a-442b-a236-a9add1fcee37",
   "metadata": {
    "execution": {
     "iopub.execute_input": "2025-05-09T09:12:10.992653Z",
     "iopub.status.busy": "2025-05-09T09:12:10.992486Z",
     "iopub.status.idle": "2025-05-09T09:12:11.553304Z",
     "shell.execute_reply": "2025-05-09T09:12:11.552925Z",
     "shell.execute_reply.started": "2025-05-09T09:12:10.992642Z"
    }
   },
   "outputs": [
    {
     "name": "stdout",
     "output_type": "stream",
     "text": [
      "9918 tracks exist\n",
      "6475 tracks less than 4h, 3443 remain\n",
      "747 tracks do not have a min Tb < 225, 2696 remain\n",
      "419 tracks do not have a max precip rate > 10 for 4 consecutive hours, 2277 remain\n",
      "12 tracks do not have a max hourly_precip_volume_threshold > 20000, 2265 remain\n"
     ]
    }
   ],
   "source": [
    "# Filter tracks\n",
    "min_track_length = 4 # hours\n",
    "cct_threshold = 225 # Minimum Tb must be < 225K during the MCS lifetime to account for overshooting tops\n",
    "object_rain_above = 10 # mm/hour for 4 hours\n",
    "hourly_precip_volume_threshold = 20000 # 20000 km**2 mm/h\n",
    "grid_length = 10 # km, GPM grid\n",
    "grid_length_deg = 0.1 # deg, GPM grid\n",
    "\n",
    "nTracks = len(tracks)\n",
    "print(f\"{nTracks} tracks exist\")\n",
    "\n",
    "tracks = [track for track in tracks if track.get_lifetime() > min_track_length]\n",
    "print(f\"{nTracks - len(tracks)} tracks less than 4h, {len(tracks)} remain\")\n",
    "nTracks = len(tracks)\n",
    "\n",
    "tracks = [track for track in tracks if all([track.get_storms()[i].minTb < cct_threshold for i in np.arange(track.get_lifetime())])]\n",
    "print(f\"{nTracks - len(tracks)} tracks do not have a min Tb < {cct_threshold}, {len(tracks)} remain\")\n",
    "nTracks = len(tracks)\n",
    " \n",
    "tracks = [track for track in tracks if any(all(track.get_storms()[i+j].maxpr > object_rain_above for j in range(4)) for i in range(track.get_lifetime() - 3))]\n",
    "print(f\"{nTracks - len(tracks)} tracks do not have a max precip rate > {object_rain_above} for 4 consecutive hours, {len(tracks)} remain\")\n",
    "nTracks = len(tracks)\n",
    "\n",
    "# .area is number of grid boxes, not km**2, so use haversine to estimate grid box areas to km**2 assuming latitude of storm centre is a good estimate of longitude length\n",
    "tracks = [track for track in tracks if any([(track.get_storms()[i].meanpr * (track.get_storms()[i].area * grid_length * haversine([track.get_storms()[i].centroidlat, 0], [track.get_storms()[i].centroidlat, grid_length_deg])))\n",
    "             > hourly_precip_volume_threshold for i in np.arange(track.get_lifetime())])]\n",
    "print(f\"{nTracks - len(tracks)} tracks do not have a max hourly_precip_volume_threshold > {hourly_precip_volume_threshold}, {len(tracks)} remain\")\n",
    "nTracks = len(tracks)\n"
   ]
  },
  {
   "cell_type": "code",
   "execution_count": 7,
   "id": "a4ae90ac-9f83-4549-82bd-271a419d923f",
   "metadata": {
    "execution": {
     "iopub.execute_input": "2025-05-09T09:12:11.554058Z",
     "iopub.status.busy": "2025-05-09T09:12:11.553927Z",
     "iopub.status.idle": "2025-05-09T09:12:11.897510Z",
     "shell.execute_reply": "2025-05-09T09:12:11.897098Z",
     "shell.execute_reply.started": "2025-05-09T09:12:11.554047Z"
    }
   },
   "outputs": [
    {
     "data": {
      "text/plain": [
       "<cartopy.mpl.feature_artist.FeatureArtist at 0x7f94f89cb460>"
      ]
     },
     "execution_count": 7,
     "metadata": {},
     "output_type": "execute_result"
    },
    {
     "data": {
      "image/png": "[encoded data removed]",
      "text/plain": [
       "<Figure size 432x288 with 1 Axes>"
      ]
     },
     "metadata": {
      "needs_background": "light"
     },
     "output_type": "display_data"
    }
   ],
   "source": [
    "f = plt.figure()\n",
    "ax = f.add_subplot(111, projection=ccrs.PlateCarree())\n",
    "lons = [storm.centroidlon for track in tracks for storm in track.get_storms()]\n",
    "lats = [storm.centroidlat for track in tracks for storm in track.get_storms()]\n",
    "\n",
    "plt.scatter(lons, lats, marker=\".\")\n",
    "ax.coastlines(\"50m\")"
   ]
  }
 ],
 "metadata": {
  "kernelspec": {
   "display_name": "mcs_prime_env",
   "language": "python",
   "name": "mcs_prime_env"
  },
  "language_info": {
   "codemirror_mode": {
    "name": "ipython",
    "version": 3
   },
   "file_extension": ".py",
   "mimetype": "text/x-python",
   "name": "python",
   "nbconvert_exporter": "python",
   "pygments_lexer": "ipython3",
   "version": "3.10.4"
  }
 },
 "nbformat": 4,
 "nbformat_minor": 5
}
